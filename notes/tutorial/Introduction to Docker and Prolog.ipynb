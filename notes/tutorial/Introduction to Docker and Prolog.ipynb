{
 "cells": [
  {
   "cell_type": "markdown",
   "metadata": {},
   "source": [
    "# Introduction to Docker and how to use it.\n",
    "\n",
    "Docker is a set of platform as a service (PaaS) products that use OS-level virtualization to deliver software in packages called containers.Containers are isolated from one another and bundle their own software, libraries and configuration files; they can communicate with each other through well-defined channels. All containers are run by a single operating system kernel and therefore use fewer resources than virtual machines.\n",
    "\n",
    "[Docker is free to download](https://www.docker.com/).\n",
    "\n",
    "## Install Docker\n",
    "\n",
    "### How to install docker in windows.\n",
    "\n",
    "For this purpose it is better to install Ubuntu as a subsystem for windows. Then we can run docker using the terminal of the Subsystem we installed. Lets have a look and see how we can do this.\n",
    "\n",
    "### How to install docker in Mac.\n",
    "\n",
    "Installing docker desktop in Mac is straightforward. Lets have look at this process as well.\n",
    "\n",
    "### How to install docker in ubuntu\n",
    "\n",
    "[Installing docker on Ubuntu](https://docs.docker.com/engine/install/ubuntu/)\n",
    "\n",
    "\n",
    "## Interact with Docker\n",
    "\n",
    "In order to use Docker we, need to first generate images with an OS kernel and configuration that necessary for an specific operation. We can do this by defining the `Dockerfile` Lets have a close look at an example to understand how it works:\n"
   ]
  },
  {
   "cell_type": "markdown",
   "metadata": {},
   "source": [
    "```dockerfile\n",
    "\n",
    "# This Dockerfile has two required ARGs to determine which base image\n",
    "# to use for the JDK and which sbt version to install.\n",
    "\n",
    "# Define the argument for openjdk version\n",
    "ARG OPENJDK_TAG=8u232\n",
    "# Do the packaging based on openjdk\n",
    "FROM openjdk:8u232\n",
    "\n",
    "# Set the name of the maintainers\n",
    "MAINTAINER Habib Ghaffari Hadigheh, Mark Armstrong <ghaffh1@mcmaster.ca, armstmp@mcmaster.ca>\n",
    "\n",
    "RUN apt-get update && \\\n",
    "  apt-get install scala -y && \\\n",
    "  apt-get install -y curl && \\\n",
    "  sh -c '(echo \"#!/usr/bin/env sh\" && \\\n",
    "  curl -L https://github.com/lihaoyi/Ammonite/releases/download/2.1.1/2.12-2.1.1) > /usr/local/bin/amm && \\\n",
    "  chmod +x /usr/local/bin/amm'\n",
    "\n",
    "# Set the working directory\n",
    "WORKDIR /opt/h1\n",
    "\n",
    "```"
   ]
  },
  {
   "cell_type": "markdown",
   "metadata": {},
   "source": [
    "## Basic commands to work with Docker\n",
    "\n",
    "If you want to use docker as tool for implementation, you may need to know lots of commands, here is [cheat sheet](https://www.docker.com/sites/default/files/d8/2019-09/docker-cheat-sheet.pdf) for this purpose. But in this course it is not necessery to learn and remeber many complicated processes. Here is a short list of command you may/may not use in this course:\n",
    "\n",
    "- Build\n",
    "\n",
    "``` shell\n",
    "docker build [OPTIONS] PATH | URL | -\n",
    "```\n",
    "\n",
    "- Run\n",
    "``` shell\n",
    "docker run [OPTIONS] IMAGE [COMMAND] [ARG...]\n",
    "```\n",
    "\n",
    "- See the list of images:\n",
    "``` shell\n",
    "docker images\n",
    "```\n",
    "\n",
    "- See the list of containers\n",
    "``` shell\n",
    "docker ps [OPTIONS]\n",
    "```\n",
    "\n",
    "Learning all the commands and optoins take time. The best resource for biggners to start with docker is [this](https://kodekloud.com/p/docker-for-the-absolute-beginner-hands-on) online free course.\n",
    "\n",
    "## How to use it for the purpose of this course\n",
    "\n",
    "We already defined the `Dockerfile` with all necessary packages and library necassery for you. We also definde a `docker-compose.yml` file that will help you in the process of building the images, as well as running/stoping the containers.\n",
    "\n",
    "Lets see how you can do that.\n",
    "\n",
    "[Here](https://armkeh.github.io/principles-of-programming-languages/homework/h1.html#Testing) is the link of the Docker test for h1.\n",
    "\n",
    "Now we are going to build and run the test to see how it works.\n",
    "\n",
    "[h1 test using docker](https://github.com/armkeh/principles-of-programming-languages/tree/master/homework/testing/h1)\n"
   ]
  },
  {
   "cell_type": "markdown",
   "metadata": {},
   "source": [
    "# Learning Inference Rules\n",
    " \n",
    "We are using inference rules in this course for two main reasons:\n",
    "\n",
    "1. To understand the semantics of programming languages.\n",
    "1. Discuss the type systems.\n",
    "\n",
    "- Prolog is a programming language that is all about inference rules. That is why we are covering it at the begging of the course this year.\n",
    "\n",
    "## Prolog\n",
    "\n",
    "Prolog programs are simply databases of inference rules, also called  clauses. Let have a look at a simple\n",
    "inference rule.\n",
    "<br><br>\n",
    "<center><font size=\"5\">$\\cfrac{A_1\\text{ }A_2\\text{ }...\\text{ }A_n}{B}$</font></center>\n",
    "<br><br>\n",
    "Lets see how we can write it down in Prolog:"
   ]
  },
  {
   "cell_type": "markdown",
   "metadata": {},
   "source": [
    "```prolog\n",
    "b :- a1, a2, a3, a4, a5.\n",
    "```"
   ]
  },
  {
   "cell_type": "markdown",
   "metadata": {},
   "source": [
    "We can seperate the permisis by `,`. This rule states that $b$ is true if all of the $a_i$ are true. So we can think of `:-` as $\\leftarrow$. Notice the **period** ending the rule. \n",
    "\n",
    "Now lets have a look at a very simple axiom:\n",
    "<br><br>\n",
    "<center><font size=\"5\">$\\begin{array}{c}\n",
    "    \\\\\n",
    "    \\hline\n",
    "    C\n",
    "  \\end{array}$</font></center>\n",
    "<br><br>\n",
    "We can write this in prolog as"
   ]
  },
  {
   "cell_type": "markdown",
   "metadata": {},
   "source": [
    "``` prolog\n",
    "c :- true.\n",
    "```\n",
    "\n",
    "or more simply, \n",
    "\n",
    "``` prolog\n",
    "c.\n",
    "```"
   ]
  },
  {
   "cell_type": "markdown",
   "metadata": {},
   "source": [
    "How we can get output from sequence of inference rules?\n",
    "\n",
    "## Get output from sequence of inference rules\n",
    "\n",
    "To interact with prolog programs, we make queries, to which Prolog reponds by checking its inference rule database to determine possible anwsers. Lets have a look at one example:\n",
    "\n",
    "### List catenatoin\n",
    "\n",
    "List catenation in SWI prolog is a **ternary predicate**. Here is how it's written\n",
    "\n",
    "``` prolog\n",
    "append(X,Y,Z)\n",
    "```\n",
    "the rule of which enforce that `Z` is the result of catenating `X` and `Y`.\n",
    "\n",
    "lets have a look and see which kinds of queries we cand make:\n",
    "\n",
    "* Is `[1,2,3,4]` the result of catenating `[1,2]`, and `[3,4]`?"
   ]
  },
  {
   "cell_type": "code",
   "execution_count": 1,
   "metadata": {},
   "outputs": [
    {
     "name": "stdout",
     "output_type": "stream",
     "text": [
      "true.\n",
      "\n",
      "\n"
     ]
    }
   ],
   "source": [
    "%%script swipl -q\n",
    "append([1,2],[3,4],[1,2,3,4])."
   ]
  },
  {
   "cell_type": "markdown",
   "metadata": {},
   "source": [
    "* What are the possible values of `Z` for which `Z` is the catenation of `[1,2,3]` and `[4,5,6]`?"
   ]
  },
  {
   "cell_type": "code",
   "execution_count": 2,
   "metadata": {},
   "outputs": [
    {
     "name": "stdout",
     "output_type": "stream",
     "text": [
      "Z = [1, 2, 3, 4, 5, 6].\n",
      "\n",
      "\n"
     ]
    }
   ],
   "source": [
    "%%script swipl -q\n",
    "append([1,2,3],[4,5,6],Z)."
   ]
  },
  {
   "cell_type": "markdown",
   "metadata": {},
   "source": [
    "What are the possible values of `X` and `Y` so that, when they are catenated, the result is `[1,2,3,4,5,6]`?"
   ]
  },
  {
   "cell_type": "code",
   "execution_count": 3,
   "metadata": {},
   "outputs": [
    {
     "name": "stdout",
     "output_type": "stream",
     "text": [
      "X = [],\n",
      "Y = [1, 2, 3, 4, 5, 6] \n"
     ]
    },
    {
     "name": "stderr",
     "output_type": "stream",
     "text": [
      "\n",
      "ERROR: Type error: `character_code' expected, found `-1' (an integer)\n",
      "ERROR: In:\n",
      "ERROR:   [11] char_code(_23930,-1)\n",
      "ERROR:   [10] '$in_reply'(-1,'?h') at /usr/local/Cellar/swi-prolog/8.2.1/libexec/lib/swipl/boot/init.pl:911\n"
     ]
    }
   ],
   "source": [
    "%%script swipl -q\n",
    "append(X,Y, [1,2,3,4,5,6])."
   ]
  },
  {
   "cell_type": "markdown",
   "metadata": {},
   "source": [
    "The reponse will be:\n",
    "\n",
    "``` prolog\n",
    "\n",
    "X = [],\n",
    "Y = [1, 2, 3, 4, 5, 6] ;\n",
    "X = [1],\n",
    "Y = [2, 3, 4, 5, 6] ;\n",
    "X = [1, 2],\n",
    "Y = [3, 4, 5, 6] ;\n",
    "X = [1, 2, 3],\n",
    "Y = [4, 5, 6] ;\n",
    "X = [1, 2, 3, 4],\n",
    "Y = [5, 6] ;\n",
    "X = [1, 2, 3, 4, 5],\n",
    "Y = [6] ;\n",
    "X = [1, 2, 3, 4, 5, 6],\n",
    "Y = [] ;\n",
    "\n",
    "```\n"
   ]
  },
  {
   "cell_type": "markdown",
   "metadata": {},
   "source": [
    "**Note:** In this way, we get several \"functions\" from one predicate, depending upon what question(s) we ask!"
   ]
  },
  {
   "cell_type": "markdown",
   "metadata": {},
   "source": [
    "## Names, kinds of tems\n",
    "\n",
    "* In Prolog, any **name** begining with an upper case letter denotes a variable.\n",
    "\n",
    "* Names which begin with lower case letters are **atoms**. which are a type of constant value. Atoms may be used as the name of predicates.\n",
    "\n",
    "**Note:** You should avoid calling atome functions, because they are relations. Functions are special kind of relations/predicates that are single-value.\n",
    "\n",
    "* Character strings surrounded by single quotes, are also atoms. So we can write\n",
    "\n",
    "``` prolog\n",
    "'is an empty list'([]).\n",
    "```\n",
    "\n",
    "* As you would expect, Prolog also has numerical constants, such as `1` or `3.14`.\n",
    "\n",
    "* Aside from what described above, the remianing kind or Prolog term is a _structure_, which has the fome below:\n",
    "\n",
    "```\n",
    "atom(term1,...,terml)\n",
    "```\n",
    "\n",
    "As you can see the syntax is simple, the main important and probably problmatic part of Prolog is simantics of it.\n",
    "\n",
    "\n",
    "## Interacting with Prolog\n",
    "\n",
    "As we've said, a Prolog program consist of clauses (inference rules.) As an example have a look at this clause:\n",
    "\n",
    "``` prolog\n",
    "\n",
    "head(X) :- body(X,Y)\n",
    "\n",
    "```\n",
    "\n",
    "Which can be interpreted as below:\n",
    "\n",
    "<br><br>\n",
    "<center><font size=\"5\">$\\forall X, head(X) \\leftarrow (\\exists Y, body(X,Y))$</font></center>\n",
    "<br><br>\n",
    "\n",
    "Then during computation, given this cluase and the goal `head(X)`, the Prolog runtime is tasked with finding a substitution for `Y` which makes `body(X,Y)` true.\n",
    "\n",
    "We provide Prolog with goals through queries, usually by loading our programs into the interactive query REPL, either by running \n",
    "\n",
    "``` shell\n",
    "swipl my_program.pl\n",
    "```\n",
    "\n",
    "from the command line, or \n",
    "\n",
    "``` prolog\n",
    "\n",
    "?- consult('my_program.pl')\n",
    "\n",
    "```\n",
    "\n",
    "once runing SWI Prolog.\n",
    "\n",
    "We can also `assert` or `retract` rules in the query REPL. if needed. Let have look at that."
   ]
  },
  {
   "cell_type": "code",
   "execution_count": 4,
   "metadata": {},
   "outputs": [
    {
     "name": "stdout",
     "output_type": "stream",
     "text": [
      "true.\n",
      "\n",
      "true.\n",
      "\n",
      "true.\n",
      "\n",
      "false.\n",
      "\n",
      "true.\n",
      "\n",
      "true.\n",
      "\n",
      "true.\n",
      "\n",
      "\n"
     ]
    }
   ],
   "source": [
    "%%script swipl -q\n",
    "assert(c).\n",
    "c.\n",
    "retract(c).\n",
    "c.\n",
    "assert(d).\n",
    "assert(c :- d).\n",
    "c."
   ]
  },
  {
   "cell_type": "markdown",
   "metadata": {},
   "source": [
    "Also, use `listing` or `listing(name)` to see all given clauses or clauses about the `name` predicate.\n",
    "\n",
    "## Unification\n",
    "\n",
    "The computation of model of Prolog involves _unification_ of terms. Terms unify  if either:\n",
    "1. They are equal, or\n",
    "1. They contain variables that can be **instantiated** in a way that makes the terms equal.\n",
    "\n",
    "We saw an example of this when we are using `append(X,Y,[1,2,3,4]`). Prolog tries to find us a possible bining. If it cannot then it reply false.\n",
    "\n",
    "So in general, unification involves searching for possible variable binings, by making use of the clauses, and modus ponens\n",
    "\n",
    "<br><br>\n",
    "<center><font size=\"5\">$(P \\land P\\Rightarrow Q) \\Rightarrow Q$</font></center>\n",
    "<br><br>\n",
    "\n",
    "### The goal list\n",
    "\n",
    "Through this process, the single goal presented by a quey will usually turn into a collection of goals; For instance if we query `?- P(5).` and the search uses a clause\n",
    "\n",
    "``` prolog\n",
    "p(X) :- Q(X), R(X).\n",
    "```\n",
    "\n",
    "then we now have as goals `q(X)` and `r(X)`.\n",
    "\n",
    "Now the goals will change to `q(5)` and `r(5)`.\n",
    "\n",
    "### Backtracking\n",
    "\n",
    "Now we are defining a small program:\n",
    "\n",
    "<br><br>\n",
    "<font size=\"5\">$ a \\leftarrow b \\land c $</font>\n",
    "\n",
    "<font size=\"5\">$ a \\leftarrow b$</font>\n",
    "\n",
    "<font size=\"5\">$ b = \\top$</font>\n",
    "\n",
    "<font size=\"5\">$ c = \\bot$</font>\n",
    "<br><br>\n",
    "\n",
    "Here is how we write it in prolog:\n",
    "\n",
    "``` prolog\n",
    "a :- b, c.\n",
    "a :- b.\n",
    "\n",
    "b.\n",
    "c :- false.\n",
    "```\n",
    "\n",
    "This will be the result of `?- trace.`  command:\n",
    "\n",
    "``` text\n",
    "\n",
    "[trace]  ?- a.\n",
    "   Call: (10) a ? creep\n",
    "   Call: (11) b ? creep\n",
    "   Exit: (11) b ? creep\n",
    "   Call: (11) c ? creep\n",
    "   Call: (12) false ? creep\n",
    "   Fail: (12) false ? creep\n",
    "   Fail: (11) c ? creep\n",
    "   Redo: (10) a ? creep\n",
    "   Call: (11) b ? creep\n",
    "   Exit: (11) b ? creep\n",
    "   Exit: (10) a ? creep\n",
    "true.\n",
    "\n",
    "\n",
    "```\n",
    "\n",
    "As Prolog runtime tries to prove a, it will use the first rule, and `fail` (because in trying to prove `c`, it reaches `false`, which it cannot prove.). At that point it has to **backtrack**, and try a different clause to prove `a`.\n",
    "\n",
    "In general runtime will backtrac serveral times during a proof, and it keeps track of which clauses have been tried.\n",
    "\n",
    "### SWI Prolog's search strategy\n",
    "\n",
    "1. Attempt to apply clauses in order from top to bottom (as in the source code).\n",
    " - Only backtrack and try other clauses after success and failure.\n",
    "1. Perform a depth first search to prove each goal.\n",
    " - So if the current goal are `b` and `c`, try to prove `b` before considering `c`.\n",
    " \n",
    "### Examining the search strategy\n",
    "\n",
    "In order to interactively see the process Prologe is using during unification, use the trace. command in the REPL. Then each query will result in a log of calls made and failures encoutered.\n",
    "\n",
    "## Equality\n",
    "\n",
    "Prolog has an equality comparision, written simply `=` (not `==`). **However**, this equality does not simplification.\n",
    "So. for instance, if a variable `X` has been unified to value `5`\n",
    "\n",
    "``` prolog\n",
    "X = 5\n",
    "```\n",
    "would be `true`. but\n",
    "\n",
    "``` prolog\n",
    "X= 2 + 3\n",
    "```\n",
    "would be `false`.\n",
    "\n",
    "Lets try it out very quickly:\n"
   ]
  },
  {
   "cell_type": "code",
   "execution_count": 5,
   "metadata": {},
   "outputs": [
    {
     "name": "stdout",
     "output_type": "stream",
     "text": [
      "false.\n",
      "\n",
      "\n"
     ]
    }
   ],
   "source": [
    "%%script swipl -q\n",
    "5 = 2 + 3."
   ]
  },
  {
   "cell_type": "markdown",
   "metadata": {},
   "source": [
    "How we can do this comparison?"
   ]
  },
  {
   "cell_type": "markdown",
   "metadata": {},
   "source": [
    "This non-simplifying equality allows us to conisder construction of terms, rather that just their value. But in case we want to actually carry out arithmetic or calculate other values, we can use the `is` comparison.\n",
    "\n"
   ]
  },
  {
   "cell_type": "code",
   "execution_count": 6,
   "metadata": {},
   "outputs": [
    {
     "name": "stdout",
     "output_type": "stream",
     "text": [
      "true.\n",
      "\n",
      "\n"
     ]
    }
   ],
   "source": [
    "%%script swipl -q\n",
    "5 is 2 + 3."
   ]
  },
  {
   "cell_type": "markdown",
   "metadata": {},
   "source": [
    "## Exerting control over the search; the cut operator\n",
    "\n",
    "In part because Prolog's searching mechanism can be naive, the programmer is given a certain amount of control over the search.\n",
    "\n",
    "The most important mechanism for controlling the search that we will see is the cut.\n",
    "\n",
    "A cut is written `!`, and can be understood as \"no backtracking is allowed to go beyond this point\n",
    "\n",
    "\n",
    "## Checking for divisors of a number\n",
    "\n",
    "\n",
    "``` prolog\n",
    "hasDivisorLessThanOrEqualTo(_,1) :- !, false.\n",
    "hasDivisorLessThanOrEqualTo(X,Y) :- 0 is X mod Y, !.\n",
    "hasDivisorLessThanOrEqualTo(X,Y) :- Z is Y - 1, hasDivisorLessThanOrEqualTo(X,Z).\n",
    "```\n",
    "\n",
    "Lets try this out to see what is the results:\n",
    "\n",
    "``` text\n",
    "\n",
    "```\n"
   ]
  }
 ],
 "metadata": {
  "kernelspec": {
   "display_name": "Python 3",
   "language": "python",
   "name": "python3"
  },
  "language_info": {
   "codemirror_mode": {
    "name": "ipython",
    "version": 3
   },
   "file_extension": ".py",
   "mimetype": "text/x-python",
   "name": "python",
   "nbconvert_exporter": "python",
   "pygments_lexer": "ipython3",
   "version": "3.8.5"
  }
 },
 "nbformat": 4,
 "nbformat_minor": 4
}
